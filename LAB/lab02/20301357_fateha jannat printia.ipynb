{
 "cells": [
  {
   "cell_type": "code",
   "execution_count": null,
   "metadata": {},
   "outputs": [],
   "source": [
    "import random\n",
    "import math\n",
    "\n",
    "id=input(\"Enter your student id:\")\n",
    "depth=int(id[0])*2\n",
    "branch=int(id[2])\n",
    "hp=int(id[-1]+id[-2])\n",
    "min_hp=int(input('Minimum value for the range of negative HP '))\n",
    "max_hp=int(input('Maximum value for the range of negative HP '))\n",
    "leaf=[random.randint(min_hp,max_hp) for i in range (branch**depth)]\n",
    "alpha=-math.inf\n",
    "beta=math.inf\n",
    "count=0\n",
    "\n",
    "\n",
    "def alpa_BetaPrunning(leaf,d,alpha,beta,maximizingPlayer,idx,count):\n",
    "    \n",
    "    if d==0:\n",
    "        return (leaf[idx],count+1)\n",
    "    \n",
    "    if maximizingPlayer==True:\n",
    "        best=-math.inf\n",
    "        for i in range(branch):\n",
    "            best1,count=alpa_BetaPrunning(leaf,d-1,alpha,beta,False,idx*branch+i,count)\n",
    "            best=max(best,best1)\n",
    "            alpha=max(best,alpha)\n",
    "            if alpha>=beta:\n",
    "                break\n",
    "        return best,count\n",
    "    else:\n",
    "        best=math.inf\n",
    "        for i in range(branch):\n",
    "            best1,count=alpa_BetaPrunning(leaf,d-1,alpha,beta,True,idx*branch+i,count)\n",
    "\n",
    "            best=min(best,best1)\n",
    "            beta=min(best,beta)\n",
    "            if alpha>=beta:\n",
    "                break\n",
    "        \n",
    "        return best,count\n",
    "   \n",
    "    \n",
    "ans=alpa_BetaPrunning(leaf,depth,-math.inf,math.inf,True,0,count)\n",
    "print(\"Depth and Branches ratio is\",depth,\":\",branch)\n",
    "print(\"Terminal States(Leaf Nodes) are\",leaf)\n",
    "print(\"Left life(HP) of the defender after maximum damage caused by the attacker is\",hp-ans[0])\n",
    "print(\"After Alpha-Beta Pruning Leaf Node Comparisons\",ans[1])"
   ]
  },
  {
   "cell_type": "code",
   "execution_count": null,
   "metadata": {},
   "outputs": [],
   "source": []
  }
 ],
 "metadata": {
  "kernelspec": {
   "display_name": "Python 3",
   "language": "python",
   "name": "python3"
  },
  "language_info": {
   "codemirror_mode": {
    "name": "ipython",
    "version": 3
   },
   "file_extension": ".py",
   "mimetype": "text/x-python",
   "name": "python",
   "nbconvert_exporter": "python",
   "pygments_lexer": "ipython3",
   "version": "3.7.6"
  }
 },
 "nbformat": 4,
 "nbformat_minor": 4
}
