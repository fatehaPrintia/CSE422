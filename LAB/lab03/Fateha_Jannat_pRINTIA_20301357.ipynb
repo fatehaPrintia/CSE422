{
 "cells": [
  {
   "cell_type": "code",
   "execution_count": 11,
   "metadata": {},
   "outputs": [
    {
     "data": {
      "text/plain": [
       "-1"
      ]
     },
     "execution_count": 11,
     "metadata": {},
     "output_type": "execute_result"
    }
   ],
   "source": [
    "import random\n",
    "inp='''5\n",
    "l 100\n",
    "l 450\n",
    "d 500\n",
    "l 7923\n",
    "d 9055\n",
    "'''\n",
    "n=int(inp[0])\n",
    "p=inp[2:].strip()\n",
    "\n",
    "a=[i.split()[0] for i in p.split(\"\\n\")]\n",
    "b=[int(i.split()[1]) for i in p.split(\"\\n\")]\n",
    "\n",
    "\n",
    "def cromosome(n):\n",
    "    czone1=\"\"\n",
    "    czone2=\"\"\n",
    "    for i in range(n):\n",
    "        czone1+=str(random.randint(0,1))\n",
    "        czone2+=str(random.randint(0,1))\n",
    "    return czone1,czone2\n",
    "\n",
    "def fitness(czone1,czone2):\n",
    "    result1=0\n",
    "    result2=0\n",
    "    for  i in range(len(b)):\n",
    "        if czone1[i]==\"1\" and a[i]==\"l\":\n",
    "            result1-=b[i]\n",
    "        if czone1[i]==\"1\" and a[i]==\"d\":\n",
    "            result1+=b[i]\n",
    "        if czone2[i]==\"1\" and a[i]==\"l\":\n",
    "            result2-=b[i]\n",
    "        if czone2[i]==\"1\" and a[i]==\"d\":\n",
    "            result2+=b[i]\n",
    "            \n",
    "    return result1,result2\n",
    "\n",
    "def crossover(czone1,czone2):\n",
    "    v=len(czone2)//2\n",
    "    cross1=czone1[:v]+czone2[v:]\n",
    "    cross2=czone2[:v]+czone1[v:]\n",
    "    return cross1,cross2  \n",
    "\n",
    "def meutation(cross1,cross2,n):\n",
    "    m1=random.randint(0,n-2)\n",
    "    m2=random.randint(0,n-2)\n",
    "    if cross1[m1]==\"1\":\n",
    "        cross1=cross1[:m1]+\"0\"+cross1[m1+1:]\n",
    "    elif cross1[m1]==\"0\":\n",
    "        cross1=cross1[:m1]+\"1\"+cross1[m1+1:]\n",
    "    if cross2[m2]==\"1\":\n",
    "        cross2=cross2[:m2]+\"0\"+cross2[m2+1:]\n",
    "    elif cross2[m2]==\"0\":\n",
    "        cross2=cross2[:m2]+\"1\"+cross2[m2+1:]\n",
    "        \n",
    "    return cross1,cross2\n",
    "\n",
    "def geneticAlgo():\n",
    "    for i in range(100):\n",
    "        c1,c2=cromosome(n)\n",
    "        r1,r2=fitness(c1,c2)\n",
    "        cr1,cr2=crossover(c1,c2)\n",
    "        m1,m2=meutation(cr1,cr2,n)\n",
    "        r1,r2=fitness(m1,m2)\n",
    "        if m1==\"0\"*n or m2==\"0\"*n:\n",
    "            continue\n",
    "        if r1==0:\n",
    "            return m1\n",
    "        if r2==0:\n",
    "            return m2\n",
    "        \n",
    "    return -1\n",
    "geneticAlgo()"
   ]
  },
  {
   "cell_type": "code",
   "execution_count": null,
   "metadata": {},
   "outputs": [],
   "source": []
  },
  {
   "cell_type": "code",
   "execution_count": null,
   "metadata": {},
   "outputs": [],
   "source": []
  }
 ],
 "metadata": {
  "kernelspec": {
   "display_name": "Python 3",
   "language": "python",
   "name": "python3"
  },
  "language_info": {
   "codemirror_mode": {
    "name": "ipython",
    "version": 3
   },
   "file_extension": ".py",
   "mimetype": "text/x-python",
   "name": "python",
   "nbconvert_exporter": "python",
   "pygments_lexer": "ipython3",
   "version": "3.7.6"
  }
 },
 "nbformat": 4,
 "nbformat_minor": 4
}
